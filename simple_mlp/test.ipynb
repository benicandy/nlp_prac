{
 "nbformat": 4,
 "nbformat_minor": 2,
 "metadata": {
  "language_info": {
   "name": "python",
   "codemirror_mode": {
    "name": "ipython",
    "version": 3
   },
   "version": "3.7.4-final"
  },
  "orig_nbformat": 2,
  "file_extension": ".py",
  "mimetype": "text/x-python",
  "name": "python",
  "npconvert_exporter": "python",
  "pygments_lexer": "ipython3",
  "version": 3,
  "kernelspec": {
   "name": "python37464bitbaseconda6e8364d777cc42f4aa57064353c675ab",
   "display_name": "Python 3.7.4 64-bit ('base': conda)"
  }
 },
 "cells": [
  {
   "source": [
    "import torch"
   ],
   "cell_type": "code",
   "outputs": [],
   "metadata": {},
   "execution_count": 1
  },
  {
   "source": [
    "a = torch.randn(4, 3)\n",
    "print(a)"
   ],
   "cell_type": "code",
   "outputs": [
    {
     "output_type": "stream",
     "name": "stdout",
     "text": "tensor([[-0.2061, -0.4355,  0.7339],\n        [-1.7317,  0.4537,  0.2454],\n        [ 1.1190,  0.6831,  0.7881],\n        [ 0.0858, -0.5108,  1.6953]])\n"
    }
   ],
   "metadata": {},
   "execution_count": 3
  },
  {
   "source": [
    "print(torch.max(a, 0))"
   ],
   "cell_type": "code",
   "outputs": [
    {
     "output_type": "stream",
     "name": "stdout",
     "text": "(tensor([1.1190, 0.6831, 1.6953]), tensor([2, 2, 3]))\n"
    }
   ],
   "metadata": {},
   "execution_count": 7
  },
  {
   "cell_type": "code",
   "execution_count": null,
   "metadata": {},
   "outputs": [],
   "source": []
  }
 ]
}